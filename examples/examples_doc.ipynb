{
 "cells": [
  {
   "cell_type": "markdown",
   "source": [
    "checks if it is in colab environment and pip install InTRASOM."
   ],
   "metadata": {
    "id": "yqgJ_h7VQJHW"
   },
   "id": "yqgJ_h7VQJHW"
  },
  {
   "cell_type": "code",
   "source": [
    "import sys\n",
    "IN_COLAB = 'google.colab' in sys.modules\n",
    "\n",
    "if IN_COLAB:\n",
    "  # Install Intrasom\n",
    "  !pip install intrasom\n"
   ],
   "metadata": {
    "id": "DjOB5SuMAPOp"
   },
   "id": "DjOB5SuMAPOp",
   "execution_count": null,
   "outputs": []
  },
  {
   "cell_type": "markdown",
   "source": [
    "if in colab environment, download input sample  from github and create folders used in example."
   ],
   "metadata": {
    "id": "_mxiJaPcQO5s"
   },
   "id": "_mxiJaPcQO5s"
  },
  {
   "cell_type": "code",
   "source": [
    "import os\n",
    "\n",
    "if IN_COLAB:\n",
    "  os.makedirs('data', exist_ok=True)\n",
    "  !wget 'https://github.com/InTRA-USP/IntraSOM/raw/main/examples/data/Animais_missing.xlsx' -P ./data\n",
    "  !wget 'https://github.com/InTRA-USP/IntraSOM/raw/main/examples/data/Animais_proj.xlsx' -P ./data\n",
    "  import os\n",
    "  path = 'Results'\n",
    "  os.makedirs(path, exist_ok=True)\n",
    "  os.makedirs('Plots', exist_ok=True)\n",
    "  os.makedirs('Plots/U_matrix', exist_ok=True)\n",
    "\n",
    "in_file_path = 'data/Animais_missing.xlsx'"
   ],
   "metadata": {
    "id": "3wns3mVGI33P"
   },
   "id": "3wns3mVGI33P",
   "execution_count": null,
   "outputs": []
  },
  {
   "cell_type": "markdown",
   "id": "d90dbd09-ce7b-49d6-9fb7-487c12c79efa",
   "metadata": {
    "id": "d90dbd09-ce7b-49d6-9fb7-487c12c79efa"
   },
   "source": [
    "<div style=\"text-align: center; padding: 0px;\">\n",
    "  <img src=\"https://github.com/InTRA-USP/IntraSOM/blob/main/examples/images/Logo_fundo_branco.svg?raw=1\" style=\"max-width: 700px;\">\n",
    "</div>"
   ]
  },
  {
   "cell_type": "markdown",
   "id": "37e58c7f-53f1-4935-8071-787a08495e46",
   "metadata": {
    "id": "37e58c7f-53f1-4935-8071-787a08495e46"
   },
   "source": [
    "<center><h1>Library Application Examples</h1></center>\n",
    "<div style=\"text-align: justify\">\n",
    "&nbsp;&nbsp;&nbsp;&nbsp;&nbsp;&nbsp;IntraSOM is a completely Python-based library for Self-Organizing Maps (SOM) developed by the RDI Center ‘Integrated Technology for Rock and Fluid Analysis’ (InTRA) (https://www.usp.br/intra/). IntraSOM was developed using Object-Oriented Programming and includes a hexagonal lattice, toroidal topology, and a wide range of tools for visualization to improve the analysis, exploration, and classification of complex n-dimensional datasets. This library includes efficient clustering algorithms and is capable of processing datasets with missing data during training. The main goal of this implementation is to raise the popularity of SOM and non-supervised algorithms and make it accessible to researchers and professionals in several fields of science and industry. The Python-based implementation presented here is an expandable framework capable of easily connecting with other machine learning libraries and algorithms.\n",
    "</div>\n"
   ]
  },
  {
   "cell_type": "code",
   "outputs": [],
   "source": [],
   "metadata": {
    "collapsed": false
   },
   "id": "ec0fafef852b78bf"
  },
  {
   "cell_type": "markdown",
   "id": "0b4b902c-7bf0-41df-b7cb-c19079be8a97",
   "metadata": {
    "id": "0b4b902c-7bf0-41df-b7cb-c19079be8a97",
    "tags": []
   },
   "source": [
    "# Imports\n",
    "***"
   ]
  },
  {
   "cell_type": "code",
   "execution_count": null,
   "id": "6450f272-e46f-4d38-95b2-9a0f7f2fc349",
   "metadata": {
    "id": "6450f272-e46f-4d38-95b2-9a0f7f2fc349",
    "tags": []
   },
   "outputs": [],
   "source": [
    "# IntraSOM Library\n",
    "import intrasom\n",
    "\n",
    "# Results Clustering and Plotting Modules\n",
    "from intrasom.visualization import PlotFactory\n",
    "from intrasom.clustering import ClusterFactory\n",
    "\n",
    "# Other importations\n",
    "import numpy as np\n",
    "import pandas as pd\n",
    "import json\n",
    "import matplotlib.pyplot as plt"
   ]
  },
  {
   "cell_type": "markdown",
   "id": "4413da5a-c6af-4182-8052-aa0b97130c88",
   "metadata": {
    "id": "4413da5a-c6af-4182-8052-aa0b97130c88"
   },
   "source": [
    "# Load DataBase\n",
    "***\n",
    "To illustrate the library’s functionalities, we employ a binary database composed of the presence and absence of descriptive features of animals. This database is a modified version of the one originally presented in Kohonen’s book “Self-Organizing Maps” (2012), including new animal samples. The database is shown below and has 18 animal samples with 13 binary descriptive features related to the animals’ size, covering, and physical functions. This way, we start with a 13-dimensional space (related to the features) and 18 samples (related to the animals) as the basis for the self-organization presented here."
   ]
  },
  {
   "cell_type": "code",
   "execution_count": null,
   "id": "02f7f99a-eaf3-4fdc-b7d2-bef523fd1806",
   "metadata": {
    "id": "02f7f99a-eaf3-4fdc-b7d2-bef523fd1806",
    "tags": []
   },
   "outputs": [],
   "source": [
    "# Load dataframe\n",
    "data = pd.read_excel(in_file_path, index_col=0)"
   ]
  },
  {
   "cell_type": "markdown",
   "id": "82cf74d0-c5d6-4922-89ce-5f643806840f",
   "metadata": {
    "id": "82cf74d0-c5d6-4922-89ce-5f643806840f"
   },
   "source": [
    "This database intentionally replaces three variables of the sample \"Dove\" with -9999 to demonstrate the utilization of the mask parameter. This parameter is associated with handling missing values during training."
   ]
  },
  {
   "cell_type": "code",
   "execution_count": null,
   "id": "d0635ca0-a168-455a-b56c-c6fb016da640",
   "metadata": {
    "id": "d0635ca0-a168-455a-b56c-c6fb016da640",
    "tags": []
   },
   "outputs": [],
   "source": [
    "data"
   ]
  },
  {
   "cell_type": "markdown",
   "id": "9e5fd9e9-b73a-4dee-9e31-a536b69c21fd",
   "metadata": {
    "id": "9e5fd9e9-b73a-4dee-9e31-a536b69c21fd"
   },
   "source": [
    "# Training Object Creation\n",
    "***"
   ]
  },
  {
   "cell_type": "markdown",
   "id": "7e6cc333-d941-4c1c-b351-b712c28199d3",
   "metadata": {
    "id": "7e6cc333-d941-4c1c-b351-b712c28199d3"
   },
   "source": [
    "<p style=\"text-align: justify; text-indent: 1.5cm;\">\n",
    "The SOM object is created using the <strong>SOMFactory</strong> class, specifically the <em>build</em> class method within the intrasom main module. The main parameter required for this method is the training data. The training data can be provided either in the form of a pandas dataframe with features as columns and samples as rows, or as a numpy ndarray. If desired, individual names for features and samples can be provided using the <em>component_names</em> and <em>sample_names</em>. If these names are not provided, default names are automatically assigned in the format \"sample_#\" and \"variable_#\".\n",
    "\n",
    "The input parameters are:\n",
    "- **data**: input data, represented as an n x m matrix, where n is the number of samples or instances, and m is the number of features. The data can be provided in either pandas dataframe or ndarray format (if ndarray is chosen, the `component_names` and `sample_names`parameters can be filled).\n",
    "\n",
    "- **mapsize**: tuple/list defining the size of the SOM map in the format (columns,rows). If an integer is provided, it is considered as the total number of neurons. For example, a mmap of 144 neurons will automatically create a SOM map of size (12,12). For the development of periodicity in hexagonal grids, it is not possible to create SOM maps with an odd number of rows. Therefore, when choosing map sizes with an off number of rows, the algorithm automatically choose the closest even integer (below) the selected. If no number is inserted, the map size will be provided by the heuristic function defined in `expected_mapsize()` function will be considered.\n",
    "\n",
    "- **mask**: Maks for null values. Examples: -9999.\n",
    "\n",
    "- **mapshape**: shape of the SOM map training topology. Example: \"toroid\".\n",
    "\n",
    "- **lattice**: map lattice type. Example: \"hexa\"\n",
    "\n",
    "- **normalization**: type of data normalization. Example: \"var\" or None\n",
    "\n",
    "- **initialization**: method used for SOM initialization. Options: \"pca\" (only for complete datasets without NaN values; does not work with missing data) or \"random\".\n",
    "\n",
    "- **neighborhood**: type of neighborhood calculation. Example: \"gaussian\"\n",
    "\n",
    "- **training**: training mode. Example: \"batch\"\n",
    "\n",
    "- **name**: name used to identify the SOM object or project. The chosen name will be used to name the saved files at the end of training and in other functions of the library.\n",
    "\n",
    "- **component_names**: list of labels for the variables used in training. If not provided, a list will be automatically created in the format: [Variable 1, Variable 2, ...].\n",
    "\n",
    "- **unit_names**: list of labels associated with the units of the training variables. If not provided, a unit list will be automatically created in the style: [Unit <variable1>, Unit <variable2>, ...].\n",
    "    \n",
    "- **sample_names**: list with the names of the samples. If not provided, a list will be automatically created in the format: [Sample 1, Sample 2, ...].\n",
    "    \n",
    "- **missing**: boolean value that should be filled if the database has missing values (NaN). For training of the \"Bruto\" type, a search for the BMUs (Best Matching Units) is performed using a distance calculation function with missing data, and the codebook update is done by filling the missing data with 0. In the fine-tuning step, this process is repeated if the parameter \"previous_epoch\" is set to False, or there is a substitution of the empty values with the calculated values for those cells in the previous training epoch if the parameter \"previous_epoch\" is set to True. In order to allow freedom of movement for vectors with missing data across the Kohonen map, a random regularization factor is generated for this filling. This factor decays during training based on the decay of the search radius for BMU updates. This factor can be observed along with the quantization error and the search radius in the training progress bar.\n"
   ]
  },
  {
   "cell_type": "code",
   "execution_count": null,
   "id": "ca87393e-d2d5-46db-be1b-2cb8e6d99c29",
   "metadata": {
    "id": "ca87393e-d2d5-46db-be1b-2cb8e6d99c29",
    "tags": []
   },
   "outputs": [],
   "source": [
    "mapsize = (24,14)\n",
    "som_test = intrasom.SOMFactory.build(data,\n",
    "                                     mask=-9999,\n",
    "                                     mapsize=mapsize,\n",
    "                                     mapshape='toroid',\n",
    "                                     lattice='hexa',\n",
    "                                     normalization='var',\n",
    "                                     initialization='random',\n",
    "                                     neighborhood='gaussian',\n",
    "                                     training='batch',\n",
    "                                     name='Example',\n",
    "                                     component_names=None,\n",
    "                                     unit_names = None,\n",
    "                                     sample_names=None,\n",
    "                                     missing=True,\n",
    "                                     save_nan_hist = True,\n",
    "                                     pred_size=0)"
   ]
  },
  {
   "cell_type": "markdown",
   "id": "e8ca91c2-73b5-48b9-bb7d-f71948a0a602",
   "metadata": {
    "id": "e8ca91c2-73b5-48b9-bb7d-f71948a0a602"
   },
   "source": [
    "<div style=\"text-align: justify\">\n",
    "&nbsp;&nbsp;&nbsp;&nbsp;&nbsp;&nbsp;It is worth mentioning that the same object could have been created with only the necessary parameters for training, assuming default values for all others. It is necessary to indicate the presence of dummy variables for missing data with the argument *mask=-9999*, and the training should be performed with missing data using the argument *missing=True*.\n",
    "</div>"
   ]
  },
  {
   "cell_type": "markdown",
   "id": "0c4320b6-e8da-472c-a98f-07008ee8d741",
   "metadata": {
    "id": "0c4320b6-e8da-472c-a98f-07008ee8d741"
   },
   "source": [
    "# Training\n",
    "***"
   ]
  },
  {
   "cell_type": "markdown",
   "id": "904de777-78aa-4781-8076-12ba4a8b30d6",
   "metadata": {
    "id": "904de777-78aa-4781-8076-12ba4a8b30d6"
   },
   "source": [
    "<p style=\"text-align: justify; text-indent: 1.5cm;\">\n",
    "Once the SOM map is initialized, we proceed to the training phase. At the end of training, all the original samples will be represented by a neuron, which is then referred to as the Best Matching Unit (BMU)\n",
    "</p>"
   ]
  },
  {
   "cell_type": "markdown",
   "id": "5ddc243c-5d41-47d6-a502-ff43257858a3",
   "metadata": {
    "id": "5ddc243c-5d41-47d6-a502-ff43257858a3"
   },
   "source": [
    "<p style=\"text-align: justify; text-indent: 1.5cm;\">\n",
    "Os parâmetros que podem ser utilizados são:\n",
    "</p>\n",
    "\n",
    "- **n_job**: number of jobs to use for parallelizing the training. This number cannot exceed the number of CPU processing cores.\n",
    "- **shared_memory**: flag to activate shared memory, important to not overload RAM memmory.\n",
    "- **train_rough_len**: number of epochs during rough training.\n",
    "- **train_rough_radiusin**: initial radius for BMU search during rough training.\n",
    "- **train_rough_radiusfin**: final radius for BMU search during rough training.\n",
    "- **train_finetune_len**: number of epochs during fine-tuning train.\n",
    "- **train_finetune_radiusin**: initial radius for BMU search during fine-tuning.\n",
    "- **train_finetune_radiusfin**: final radius for BMU search during fine-tuning.\n",
    "- **train_len_factor**: factor to multiply the number of epochs for both rough and fine-tuning training together.\n",
    "- **maxtrainlen**: maximum desired number of epochs. Default: np.Inf (infinite).\n",
    "- **previous_epoch**: filling empty values with the ones found in the last epoch of training during fine-tuning.\n",
    "</p>"
   ]
  },
  {
   "cell_type": "markdown",
   "id": "913b0b48-0815-41d5-aa2b-6fa99985e53d",
   "metadata": {
    "id": "913b0b48-0815-41d5-aa2b-6fa99985e53d"
   },
   "source": [
    "<p style=\"text-align: justify; text-indent: 1.5cm;\">\n",
    "It is recommended to use an initial search radius that is compatible with the size of the training map. On the other hand, a final radius of 1 is suggested, which represents the alteration of the neighborhood within a Manhattan distance of 1 from the activated BMU.\n",
    "</p>"
   ]
  },
  {
   "cell_type": "markdown",
   "id": "590b55eb-ce9a-4c91-8cdc-dd18074faf0b",
   "metadata": {
    "id": "590b55eb-ce9a-4c91-8cdc-dd18074faf0b"
   },
   "source": [
    "**Obs**: During training, a progress bar and descriptors are displayed, including the current training epoch, the training radius associated with each epoch, the quantization error for each epoch, and the regularization factor applied to the filling of empty data."
   ]
  },
  {
   "cell_type": "code",
   "execution_count": null,
   "id": "b8256689-3ff8-4441-8d4c-f0ebc9955c68",
   "metadata": {
    "id": "b8256689-3ff8-4441-8d4c-f0ebc9955c68",
    "tags": []
   },
   "outputs": [],
   "source": [
    "som_test.train(train_len_factor=2,\n",
    "               previous_epoch = True)"
   ]
  },
  {
   "cell_type": "markdown",
   "id": "54aff524-676b-4d36-a9c8-8420969a05d0",
   "metadata": {
    "id": "54aff524-676b-4d36-a9c8-8420969a05d0"
   },
   "source": [
    "## Load Trained Map"
   ]
  },
  {
   "cell_type": "code",
   "execution_count": null,
   "id": "c7a51bef-c3a3-48c2-bbda-a4d205ba5d7d",
   "metadata": {
    "id": "c7a51bef-c3a3-48c2-bbda-a4d205ba5d7d",
    "tags": []
   },
   "outputs": [],
   "source": [
    "import json\n",
    "import pandas as pd\n",
    "import numpy as np\n",
    "\n",
    "# IntraSOM Library\n",
    "import intrasom\n",
    "\n",
    "# Results Plotting Module\n",
    "from intrasom.visualization import PlotFactory"
   ]
  },
  {
   "cell_type": "markdown",
   "id": "4fabc465-293f-4171-a0b4-fa3ce25c30e4",
   "metadata": {
    "id": "4fabc465-293f-4171-a0b4-fa3ce25c30e4"
   },
   "source": [
    "<p style=\"text-align: justify; text-indent: 1.5cm;\">\n",
    "To load the training results, access to three files is required:\n",
    "<ol>\n",
    "<li>Input data for training.</li>\n",
    "<li>The trained neuron map saved after training in the Results folder, with the name \"nome_projeto_BMUS.(xlsx/csv/parquet)\".</li>\n",
    "<li>The parameters used for training, saved in JSON format in the Results folder with the name \"params_nome_projeto.json\".</li>\n",
    "</ol>\n",
    "</p>"
   ]
  },
  {
   "cell_type": "code",
   "execution_count": null,
   "id": "ce8143ed-3c79-4ff2-b35e-08accea082e1",
   "metadata": {
    "id": "ce8143ed-3c79-4ff2-b35e-08accea082e1",
    "tags": []
   },
   "outputs": [],
   "source": [
    "data = pd.read_excel(in_file_path, index_col=0)\n",
    "bmus = pd.read_parquet(\"Results/Example_neurons.parquet\")\n",
    "params = json.load(open(\"Results/params_Example.json\", encoding='utf-8'))"
   ]
  },
  {
   "cell_type": "markdown",
   "id": "7abd6c7b-96a1-4615-8eaa-9baf83d9c487",
   "metadata": {
    "id": "7abd6c7b-96a1-4615-8eaa-9baf83d9c487"
   },
   "source": [
    "<p style=\"text-align: justify; text-indent: 1.5cm;\">\n",
    "To load the training, each of the instantiated files is passed as a parameter to the <span style=\"font-style: italic;\">SOMFactory.load_som</span> class function, including the parameters: data, trained_neurons, and params, respectively.\n",
    "</p>"
   ]
  },
  {
   "cell_type": "code",
   "execution_count": null,
   "id": "5a828374-bb5f-489b-ac15-7dee46934eb1",
   "metadata": {
    "id": "5a828374-bb5f-489b-ac15-7dee46934eb1",
    "tags": []
   },
   "outputs": [],
   "source": [
    "som_test = intrasom.SOMFactory.load_som(data = data,\n",
    "                                       trained_neurons = bmus,\n",
    "                                       params = params)"
   ]
  },
  {
   "cell_type": "markdown",
   "id": "41d7850b-3141-4f6a-8283-8b074a1a9ab4",
   "metadata": {
    "id": "41d7850b-3141-4f6a-8283-8b074a1a9ab4"
   },
   "source": [
    "## Training Report"
   ]
  },
  {
   "cell_type": "markdown",
   "id": "d695fcf0-edf9-4df2-80ba-fd080367db77",
   "metadata": {
    "id": "d695fcf0-edf9-4df2-80ba-fd080367db77"
   },
   "source": [
    "<p style=\"text-align: justify; text-indent: 1.5cm;\">\n",
    "At the end of the training process, a 'Training Report' is automatically generated, containing descriptive numerical information about the input data, initialization, training, and training quality, following the format below:<br>\n",
    "</p>\n",
    "<center><img src=\"https://github.com/InTRA-USP/IntraSOM/blob/main/examples/data/train_report.jpg?raw=1\"/></center>"
   ]
  },
  {
   "cell_type": "markdown",
   "id": "47d5eab3-6652-434b-9587-b12c26243045",
   "metadata": {
    "id": "47d5eab3-6652-434b-9587-b12c26243045"
   },
   "source": [
    "# Main Module\n",
    "***"
   ]
  },
  {
   "cell_type": "markdown",
   "id": "27aff1a0-0c89-49ab-a58e-7fd332587e82",
   "metadata": {
    "id": "27aff1a0-0c89-49ab-a58e-7fd332587e82"
   },
   "source": [
    "<p style=\"text-align: justify; text-indent: 1.5cm;\">\n",
    "The training results are automatically saved in a directory called 'Results', created in the same location as the Jupyter Notebook used for training. Additionally, these results can be accessed through specific methods, as shown below.\n",
    "</p>"
   ]
  },
  {
   "cell_type": "markdown",
   "id": "f79ce68e-f8c5-4acc-82e7-64f1f4381132",
   "metadata": {
    "id": "f79ce68e-f8c5-4acc-82e7-64f1f4381132"
   },
   "source": [
    "## Results Dataframe"
   ]
  },
  {
   "cell_type": "markdown",
   "id": "588b2d48-0bef-4615-b35a-2393f14f350f",
   "metadata": {
    "id": "588b2d48-0bef-4615-b35a-2393f14f350f"
   },
   "source": [
    "<p style=\"text-align: justify; text-indent: 1.5cm;\">\n",
    "A dataframe named <span style=\"font-style: italic;\">project_name_results</span> is created in the 'Results' directory. This dataframe can be accessed using the static method <span style=\"font-style: italic;\">.results_dataframe</span> associated with the training object. The dataframe consists of the following columns:\n",
    "</p>\n",
    "\n",
    "* **BMU**: shows the associated BMU for each input vector.\n",
    "* **q-error**: quantization error for each sample with respect to its BMU.\n",
    "* **Ret_x, Ret_y, Cub_x, Cub_y, Cub_z**: two columns for rectangular or Cartesian coordinates (Ret_x, Ret_y) and three columns for cubic coordinates (Cub_x, Cub_y, Cub_z) representing the location of these BMUs in the training map.\n",
    "* **B_variavel**: columns containing the trained weights of each input variable with respect to the BMU in the format B_variable."
   ]
  },
  {
   "cell_type": "code",
   "execution_count": null,
   "id": "de8615a1-588c-4e02-b4c0-ab44aa3437b4",
   "metadata": {
    "id": "de8615a1-588c-4e02-b4c0-ab44aa3437b4"
   },
   "outputs": [],
   "source": [
    "som_test.results_dataframe"
   ]
  },
  {
   "cell_type": "markdown",
   "id": "b9686bc3-ae1f-4481-9ef1-5fa700f18714",
   "metadata": {
    "id": "b9686bc3-ae1f-4481-9ef1-5fa700f18714"
   },
   "source": [
    "## Neurons Dataframe"
   ]
  },
  {
   "cell_type": "markdown",
   "id": "87c8e30c-27c3-477f-a702-8e41bf2755e7",
   "metadata": {
    "id": "87c8e30c-27c3-477f-a702-8e41bf2755e7"
   },
   "source": [
    "<p style=\"text-align: justify; text-indent: 1.5cm;\">\n",
    "Another dataframe is created that contains the training results of the weights for each neuron belonging to the trained map. The format is also similar to the results dataframe. This result can also be accessed through the static method <span style=\"font-style: italic;\">.neurons_dataframe</span>.\n",
    "</p>"
   ]
  },
  {
   "cell_type": "code",
   "execution_count": null,
   "id": "887d0661-afd0-4532-a199-b3b35e1dffe2",
   "metadata": {
    "id": "887d0661-afd0-4532-a199-b3b35e1dffe2"
   },
   "outputs": [],
   "source": [
    "som_test.neurons_dataframe"
   ]
  },
  {
   "cell_type": "markdown",
   "id": "d443312d-8586-4431-9414-ae318f1cbca6",
   "metadata": {
    "id": "d443312d-8586-4431-9414-ae318f1cbca6"
   },
   "source": [
    "## Representative Samples"
   ]
  },
  {
   "cell_type": "markdown",
   "id": "38fb58ff-2fa9-4c38-b4ab-7d1b1d0fcdc0",
   "metadata": {
    "id": "38fb58ff-2fa9-4c38-b4ab-7d1b1d0fcdc0"
   },
   "source": [
    "<p style=\"text-align: justify; text-indent: 1.5cm;\">\n",
    "    For the evaluation of sample representativeness, it is possible to observe the distribution of samples within their respective BMU considering the distance relationships using the function <span style=\"font-style: italic;\">.rep_sample</span>. As the BMU represents the best-matched vector for one or more samples, sample representativeness is measured by their respective distance to the BMU.\n",
    "</p>\n",
    "<p style=\"text-align: justify; text-indent: 1.5cm;\">\n",
    "    The return of this function is a dictionary where the keys are the BMUs, and the values are the samples associated with each of them, following the order of distance: the first sample, most representative of the set, is the one closest to the BMU, while the least representative sample is the last one, represented by the farthest sample.\n",
    "</p>"
   ]
  },
  {
   "cell_type": "code",
   "execution_count": null,
   "id": "bc5ca3bb-4561-44f0-849b-36e17735f877",
   "metadata": {
    "id": "bc5ca3bb-4561-44f0-849b-36e17735f877",
    "tags": []
   },
   "outputs": [],
   "source": [
    "rep_dic = som_test.rep_sample(save=True)\n",
    "# Ordering BMUs in ascending order\n",
    "sorted_dict = dict(sorted(rep_dic.items()))\n",
    "sorted_dict"
   ]
  },
  {
   "cell_type": "markdown",
   "id": "aad7d10c-0bb3-4aa2-867f-2ac29e73bcc7",
   "metadata": {
    "id": "aad7d10c-0bb3-4aa2-867f-2ac29e73bcc7"
   },
   "source": [
    "## Missing Data Imputation"
   ]
  },
  {
   "cell_type": "markdown",
   "id": "7c8fca71-b3f4-495e-95f9-112060562687",
   "metadata": {
    "id": "7c8fca71-b3f4-495e-95f9-112060562687"
   },
   "source": [
    "<p style=\"text-align: justify; text-indent: 1.5cm;\">\n",
    "This functionality deals with replacing the missing value of a given sample with the vector projection of its corresponding BMU on the axis of the missing variable.\n",
    "</p>\n",
    "<p style=\"text-align: justify; text-indent: 1.5cm;\">\n",
    "Therefore, if the goal of the training is to impute missing data, this functionality can be achieved using the <span style=\"font-style: italic;\">.imput_missing()</span> method. The default number of decimal places used for imputation is 6.\n",
    "</p>"
   ]
  },
  {
   "cell_type": "code",
   "execution_count": null,
   "id": "d3821466-df57-4f98-a480-f93bcd7f0be3",
   "metadata": {
    "id": "d3821466-df57-4f98-a480-f93bcd7f0be3",
    "tags": []
   },
   "outputs": [],
   "source": [
    "som_test.imput_missing()"
   ]
  },
  {
   "cell_type": "markdown",
   "id": "efde3bd0-f6dd-4c16-95e7-ecfd684dd917",
   "metadata": {
    "id": "efde3bd0-f6dd-4c16-95e7-ecfd684dd917"
   },
   "source": [
    "# Visualization Module\n",
    "***"
   ]
  },
  {
   "cell_type": "markdown",
   "id": "e2339a97-1341-4a70-9d75-f870cb126ae8",
   "metadata": {
    "id": "e2339a97-1341-4a70-9d75-f870cb126ae8"
   },
   "source": [
    "<p style=\"text-align: justify; text-indent: 1.5cm;\">\n",
    "    The visualization of training results, such as the U-Matrix and component maps, is done through the <span style=\"font-style: italic;\">.visualization()</span> module by creating a <span style=\"font-style: italic;\">PlotFactory()</span> object that takes the SOM object as an argument.\n",
    "</p>"
   ]
  },
  {
   "cell_type": "code",
   "execution_count": null,
   "id": "e6ca1d3a-80b4-4b3a-a2b5-b00002131b33",
   "metadata": {
    "id": "e6ca1d3a-80b4-4b3a-a2b5-b00002131b33"
   },
   "outputs": [],
   "source": [
    "plot = PlotFactory(som_test)"
   ]
  },
  {
   "cell_type": "markdown",
   "id": "fe104bb6-5c2d-4a52-80ba-a6c39c40db77",
   "metadata": {
    "id": "fe104bb6-5c2d-4a52-80ba-a6c39c40db77"
   },
   "source": [
    "## Matriz-U"
   ]
  },
  {
   "cell_type": "markdown",
   "id": "3b3c9583-a383-4921-8c5e-bcd9cec34a20",
   "metadata": {
    "id": "3b3c9583-a383-4921-8c5e-bcd9cec34a20"
   },
   "source": [
    "<p style=\"text-align: justify; text-indent: 1.5cm;\">\n",
    "    With the created plotting object, the Unified Distance Matrix (U-Matrix) can be generated using the <span style=\"font-style: italic;\">.plot_umatrix()</span> method. The arguments for styling the plot are:\n",
    "</p>\n",
    "\n",
    "* **figsize**: size of the U-Matrix plot window. Default: (10,10\n",
    "* **hits**: boolean value to indicate whether to plot the hits of input vectors on the BMUs (proportional to the number of vectors per BMU)\n",
    "* **title**: title of the created figure. Default: \"U-Matrix\"\n",
    "* **title_size**: size of the plotted title. Default: 40\n",
    "* **title_pad**:  spacing between the title and the top of the matrix. Default: 25\n",
    "* **legend_title**: title of the legend color bar. Default: \"Distance\"\n",
    "* **legend_pad**:  spacing between the legend title and the U-Matrix. Default: 0\n",
    "* **legend_title_size**: size of the legend title. Default: 25.\n",
    "* **legend_ticks_size**: size of the numbers on the legend color bar. Default: 20.\n",
    "* **save**: boolean value to define whether to save the generated image. The image will be saved in the directory (Plots/U-Matrix). Default: True.\n",
    "* **label_plot**: boolean value to add labels to the hexagons of the U-Matrix. Default: False\n",
    "* **label_plot_dic**: dictionary that maps specific labels for each hexagon. Default: None\n",
    "* **label_title_xy**: coordinates (x, y) to position the title of the labels. Default: (-0.02, 1.1)\n",
    "* **watermark_neurons**:  boolean value to add a watermark with the BMUs on the image. Default: False\n",
    "* **file_name**: the name to be given to the saved file. If no name is provided, the project name will be used.\n",
    "* **file_path**:  the system path where the image will be saved if the default path is not used.\n",
    "* **log**: plot the U-Matrix in logarithmic scale for better contrast in visualizing dissimilarity boundaries in the presence of outliers."
   ]
  },
  {
   "cell_type": "markdown",
   "id": "4fddc373-6b59-4097-a851-e58b40651e99",
   "metadata": {
    "id": "4fddc373-6b59-4097-a851-e58b40651e99"
   },
   "source": [
    "### Traditional U-Matrix\n",
    "Plot of the traditional Unified Distance Matrix."
   ]
  },
  {
   "cell_type": "code",
   "execution_count": null,
   "id": "e0836a2a-65ce-4b3d-b289-6078d183af9f",
   "metadata": {
    "id": "e0836a2a-65ce-4b3d-b289-6078d183af9f"
   },
   "outputs": [],
   "source": [
    "plot.plot_umatrix(figsize = (13,2.5),\n",
    "                  hits = False,\n",
    "                  title = \"U-Matrix\",\n",
    "                  title_size = 20,\n",
    "                  title_pad = 20,\n",
    "                  legend_title = \"Distance\",\n",
    "                  legend_title_size = 12,\n",
    "                  legend_ticks_size = 7,\n",
    "                  label_title_xy = (0,0.5),\n",
    "                  save = True,\n",
    "                  file_name = \"umatrix\",\n",
    "                  file_path = '',\n",
    "                  watermark_neurons=False)"
   ]
  },
  {
   "cell_type": "markdown",
   "id": "3fcd06c9-8b5e-4a40-a6c4-1d39d8c40f30",
   "metadata": {
    "id": "3fcd06c9-8b5e-4a40-a6c4-1d39d8c40f30"
   },
   "source": [
    "### U-Matrix with BMU\n",
    "<p style=\"text-align: justify; text-indent: 1.5cm;\">\n",
    "Plot of the U-Matrix with the BMU hits (white hexagons) which are proportional in size to the amount of entry samples which are grouped to that BMU. To achieve this is necessary to flag the hits parameter as True.\n",
    "</p>"
   ]
  },
  {
   "cell_type": "code",
   "execution_count": null,
   "id": "89d0b660-8b8c-4b29-b63d-697e3bfddb12",
   "metadata": {
    "id": "89d0b660-8b8c-4b29-b63d-697e3bfddb12",
    "tags": []
   },
   "outputs": [],
   "source": [
    "plot.plot_umatrix(figsize = (13,2.5),\n",
    "                  hits = True,\n",
    "                  title = \"U-Matrix - With Hits\",\n",
    "                  title_size = 20,\n",
    "                  title_pad = 20,\n",
    "                  legend_title = \"Distance\",\n",
    "                  legend_title_size = 12,\n",
    "                  legend_ticks_size = 7,\n",
    "                  label_title_xy = (0,0.5),\n",
    "                  save = True,\n",
    "                  file_name = \"umatrix_hits\",\n",
    "                  file_path = False,\n",
    "                  watermark_neurons=False)"
   ]
  },
  {
   "cell_type": "markdown",
   "id": "9360be30-20cc-4657-8465-fb625ab15ef6",
   "metadata": {
    "id": "9360be30-20cc-4657-8465-fb625ab15ef6"
   },
   "source": [
    "### U-Matrix with Labaled Representative Samples\n",
    "<p style=\"text-align: justify; text-indent: 1.5cm;\">\n",
    "It is possible to plot the labels of the samples in the U-Matrix using the parameter <span style=\"font-style: italic;\">samples_label</span> set to True. In the parameter <span style=\"font-style: italic;\">samples_label_index</span>, you can specify the indices of the samples you want to plot as a list or array. Additionally, the parameter <span style=\"font-style: italic;\">samples_label_fontsize</span> allows you to specify the font size for the plot.\n",
    "</p>"
   ]
  },
  {
   "cell_type": "code",
   "execution_count": null,
   "id": "30d3fc78-a9a6-405d-a0f5-9509e140586c",
   "metadata": {
    "id": "30d3fc78-a9a6-405d-a0f5-9509e140586c",
    "tags": []
   },
   "outputs": [],
   "source": [
    "plot.plot_umatrix(figsize = (13,2.5),\n",
    "                  hits = True,\n",
    "                  title = \"U-Matrix - Labeled Representative Samples\",\n",
    "                  title_size = 20,\n",
    "                  title_pad = 20,\n",
    "                  legend_title = \"Distance\",\n",
    "                  legend_title_size = 12,\n",
    "                  legend_ticks_size = 7,\n",
    "                  label_title_xy = (0,0.5),\n",
    "                  save = False,\n",
    "                  file_name = \"umatrix_sample_labels\",\n",
    "                  file_path = False,\n",
    "                  watermark_neurons=False,\n",
    "                  samples_label = True,\n",
    "                  samples_label_index = range(18),\n",
    "                  samples_label_fontsize = 8,\n",
    "                 save_labels_rep = True)"
   ]
  },
  {
   "cell_type": "markdown",
   "id": "e1eaa52f-e00e-4d1e-be61-713f4ac3cd9d",
   "metadata": {
    "id": "e1eaa52f-e00e-4d1e-be61-713f4ac3cd9d"
   },
   "source": [
    "### U-Matrix with BMU Activated by Boolean Variable/Feature\n",
    "<p style=\"text-align: justify; text-indent: 1.5cm;\">\n",
    "If one of the training variables is of boolean type (True or False) or represented by a binary value, it is possible to identify that variable in the U-Matrix. To do so, it is necessary to use the parameter label_plt as True and the parameter label_plot_name as the desired variable's identification for the plot. BMUs with a label of True (1) are displayed in white, while BMUs with a label of False (0) are displayed in black. If more than one value is grouped in a single BMU, the color representation will be based on the mode of that group. As an example, we show the binary variable related to the size of animals, specifically \"Small\". In the figure, small animals appear in white hexagons, while animals that are not small appear in black hexagons. The size of the hexagons remains proportional to the number of samples.\n",
    "</p>"
   ]
  },
  {
   "cell_type": "code",
   "execution_count": null,
   "id": "d71f2e6d-c400-4baa-b64f-32a50660a631",
   "metadata": {
    "id": "d71f2e6d-c400-4baa-b64f-32a50660a631",
    "tags": []
   },
   "outputs": [],
   "source": [
    "plot.plot_umatrix(figsize = (13,2.5),\n",
    "                  hits = True,\n",
    "                  title = \"U-Matrix with boolean feature activated BMU - Categorical Feature: Small\",\n",
    "                  title_size = 16,\n",
    "                  title_pad = 20,\n",
    "                  legend_title = \"Distance\",\n",
    "                  legend_title_size = 12,\n",
    "                  legend_ticks_size = 7,\n",
    "                  label_title_xy = (0,0.5),\n",
    "                  save = False, #True,\n",
    "                  file_name = \"umatrix_var_labels\",\n",
    "                  file_path = False,\n",
    "                  watermark_neurons=False,\n",
    "                  label_plot = True,\n",
    "                 label_plot_name = \"Small\")"
   ]
  },
  {
   "cell_type": "markdown",
   "id": "ef655d55-5a37-4943-a09a-6ba25e2079e8",
   "metadata": {
    "id": "ef655d55-5a37-4943-a09a-6ba25e2079e8"
   },
   "source": [
    "### Neuron Template\n",
    "<p style=\"text-align: justify; text-indent: 1.5cm;\">\n",
    "It is possible to generate a template for identifying the positioning of neurons and, consequently, the original samples associated with the neurons that are BMUs (Best Matching Units). The parameter to activate the neuron template is the <span style=\"font-style: italic;\">watermark_neurons</span> and should be flaged as True. The fontsize of the neuron numbers can be customized by the parameter <span style=\"font-style: italic;\">neurons_fontsize</span>. To visualize only the neurons template the <span style=\"font-style: italic;\">watermark_neurons_alfa</span> should be set to 1 (no transparency).\n",
    "</p>"
   ]
  },
  {
   "cell_type": "code",
   "execution_count": null,
   "id": "4c5115b9-b54d-45fb-8ba6-b9acd27eb71a",
   "metadata": {
    "id": "4c5115b9-b54d-45fb-8ba6-b9acd27eb71a"
   },
   "outputs": [],
   "source": [
    "plot.plot_umatrix(figsize = (13,2.5),\n",
    "                  hits = False,\n",
    "                  title = \"Neuron Template\",\n",
    "                  title_size = 20,\n",
    "                  title_pad = 25,\n",
    "                  legend_title = \"Distance\",\n",
    "                  legend_title_size = 12,\n",
    "                  legend_ticks_size = 7,\n",
    "                  label_title_xy = (0,0.5),\n",
    "                  save = True,\n",
    "                  file_name = \"umatrix_watermark_template\",\n",
    "                  file_path = False,\n",
    "                  watermark_neurons=True,\n",
    "                  watermark_neurons_alfa = 1,\n",
    "                  neurons_fontsize = 7)"
   ]
  },
  {
   "cell_type": "markdown",
   "id": "6b6ff107-c023-4a84-b636-52e9620c83ed",
   "metadata": {
    "id": "6b6ff107-c023-4a84-b636-52e9620c83ed"
   },
   "source": [
    "### U-Matrix with Neuron Template\n",
    "<p style=\"text-align: justify; text-indent: 1.5cm;\">\n",
    "If the parameter <span style=\"font-style: italic;\">watermark_neurons_alfa</span> is set to a value between 0 and 1, the neuron template will appear as a watermark overlay on the U-Matrix.\n",
    "</p>"
   ]
  },
  {
   "cell_type": "code",
   "execution_count": null,
   "id": "f9e6cf7e-e6d3-4e09-8a0a-fe82443ef7be",
   "metadata": {
    "id": "f9e6cf7e-e6d3-4e09-8a0a-fe82443ef7be"
   },
   "outputs": [],
   "source": [
    "plot.plot_umatrix(figsize = (13,2.5),\n",
    "                  hits = True,\n",
    "                  title = \"U-Matrix with Neuron Template\",\n",
    "                  title_size = 20,\n",
    "                  title_pad = 25,\n",
    "                  legend_title = \"Distance\",\n",
    "                  legend_title_size = 12,\n",
    "                  legend_ticks_size = 7,\n",
    "                  label_title_xy = (0,0.5),\n",
    "                  save = True,\n",
    "                  file_name = \"umatrix_watermark_template\",\n",
    "                  file_path = False,\n",
    "                  watermark_neurons=True,\n",
    "                  neurons_fontsize = 7)"
   ]
  },
  {
   "cell_type": "markdown",
   "id": "20104076-35f6-4c58-9236-31495a1327e8",
   "metadata": {
    "id": "20104076-35f6-4c58-9236-31495a1327e8"
   },
   "source": [
    "### Projected U-Matrix on the Torus\n",
    "<p style=\"text-align: justify; text-indent: 1.5cm;\">\n",
    "For visualization purposes, the <span style=\"font-style: italic;\">.plot_torus()</span> plotting function creates a three-dimensional projection of the trained map on the torus.<br>\n",
    "Parameters: <br>\n",
    "</p>\n",
    "\n",
    "* **inner_out_prop** (float): proportion of the inner radius to the outer radius of the torus (default: 0.4).\n",
    "* **red_factor** (int): reduction factor for the image matrix (default: 4). A smaller value provides better resolution for the projection but requires more processing power.\n",
    "* **hits** (bool): indicates whether impact areas should be highlighted in the image matrix (default: False)."
   ]
  },
  {
   "cell_type": "code",
   "execution_count": null,
   "id": "59ffffa3-e421-448a-a62f-03c56d233ede",
   "metadata": {
    "id": "59ffffa3-e421-448a-a62f-03c56d233ede"
   },
   "outputs": [],
   "source": [
    "plot.plot_torus(hits=True, inner_out_prop = 0.25, red_factor = 2)"
   ]
  },
  {
   "cell_type": "markdown",
   "id": "19eb5147-0a66-4066-8a47-d26a1f4d7e40",
   "metadata": {
    "id": "19eb5147-0a66-4066-8a47-d26a1f4d7e40"
   },
   "source": [
    "# Projection onto Trained Map Module\n",
    "***"
   ]
  },
  {
   "cell_type": "markdown",
   "id": "4b40e78a-9891-4505-822e-6035e9577bf8",
   "metadata": {
    "id": "4b40e78a-9891-4505-822e-6035e9577bf8"
   },
   "source": [
    "<p style=\"text-align: justify; text-indent: 1.5cm;\">\n",
    "    To project new data onto a trained map, simply load the respective data and use the function <span style=\"font-style: italic;\">project_nan_data()</span>.\n",
    "</p>\n"
   ]
  },
  {
   "cell_type": "markdown",
   "id": "57374ff9-a6f2-4481-a261-d30c2ce60db8",
   "metadata": {
    "id": "57374ff9-a6f2-4481-a261-d30c2ce60db8"
   },
   "source": [
    "## Load Projection Database\n",
    "<p style=\"text-align: justify; text-indent: 1.5cm;\">\n",
    "    A database composed of three new animals was created with Baboon, Hummingbird and Jaguar to demonstrate data projection onto a trained map.\n",
    "</p>"
   ]
  },
  {
   "cell_type": "code",
   "execution_count": null,
   "id": "4eeb93a4-5f93-45f7-ae31-75a4b9b5613c",
   "metadata": {
    "id": "4eeb93a4-5f93-45f7-ae31-75a4b9b5613c"
   },
   "outputs": [],
   "source": [
    "data_proj = pd.read_excel(\"data/Animais_proj.xlsx\", index_col=0)"
   ]
  },
  {
   "cell_type": "code",
   "execution_count": null,
   "id": "8dfb931c-5867-452d-b3e0-7987d11e5e3a",
   "metadata": {
    "id": "8dfb931c-5867-452d-b3e0-7987d11e5e3a"
   },
   "outputs": [],
   "source": [
    "data_proj"
   ]
  },
  {
   "cell_type": "markdown",
   "id": "df84f829-b00b-4431-9539-07eb435a54f2",
   "metadata": {
    "id": "df84f829-b00b-4431-9539-07eb435a54f2"
   },
   "source": [
    "## Projected Data"
   ]
  },
  {
   "cell_type": "code",
   "execution_count": null,
   "id": "80d75adf-7ebb-4d23-a9b9-8013dba445bf",
   "metadata": {
    "id": "80d75adf-7ebb-4d23-a9b9-8013dba445bf"
   },
   "outputs": [],
   "source": [
    "proj_data_result = som_test.project_nan_data(data_proj=data_proj)\n",
    "proj_data_result"
   ]
  },
  {
   "cell_type": "markdown",
   "id": "89f2b44a-4005-4d24-88b1-7a5659af2e34",
   "metadata": {
    "id": "89f2b44a-4005-4d24-88b1-7a5659af2e34"
   },
   "source": [
    "## Representative Samples\n",
    "<p style=\"text-align: justify; text-indent: 1.5cm;\">\n",
    "    The dictionary of representative samples can be updated with the samples projected from the <span style=\"font-style: italic;\">project</span> parameter. This parameter should receive the result of the projected data.\n",
    "</p>"
   ]
  },
  {
   "cell_type": "code",
   "execution_count": null,
   "id": "92007b12-2358-4021-b331-07b26cde83d8",
   "metadata": {
    "id": "92007b12-2358-4021-b331-07b26cde83d8"
   },
   "outputs": [],
   "source": [
    "rep_dic = som_test.rep_sample(save=True, project=proj_data_result)\n",
    "# Ordenando os BMUs de forma crescente\n",
    "sorted_dict = dict(sorted(rep_dic.items()))\n",
    "sorted_dict"
   ]
  },
  {
   "cell_type": "markdown",
   "id": "0d4c3670-559d-44c4-a064-2af274a73700",
   "metadata": {
    "id": "0d4c3670-559d-44c4-a064-2af274a73700"
   },
   "source": [
    "## Comparison with Input Data\n",
    "<p style=\"text-align: justify; text-indent: 1.5cm;\">\n",
    "    The project_samples_label parameter in the <span style=\"font-style: italic;\">.plot_umatrix()</span> function can be used with the result of the projected data to observe the distribution of the projected samples on the U-Matrix.\n",
    "</p>"
   ]
  },
  {
   "cell_type": "code",
   "execution_count": null,
   "id": "5124cf34-8b19-4849-95a8-1c9c3772d70e",
   "metadata": {
    "id": "5124cf34-8b19-4849-95a8-1c9c3772d70e"
   },
   "outputs": [],
   "source": [
    "plot.plot_umatrix(figsize = (12,2.5),\n",
    "                  hits = True,\n",
    "                  title = \"U-Matrix - Labeled Representative Samples\",\n",
    "                  title_size = 20,\n",
    "                  title_pad = 20,\n",
    "                  legend_title = \"Distance\",\n",
    "                  legend_title_size = 12,\n",
    "                  legend_ticks_size = 7,\n",
    "                  label_title_xy = (0,0.5),\n",
    "                  save = True,\n",
    "                  file_name = \"umatrix_projected_data\",\n",
    "                  file_path = False,\n",
    "                  watermark_neurons=False,\n",
    "                  project_samples_label = proj_data_result,\n",
    "                  samples_label = True,\n",
    "                  samples_label_index = range(19),\n",
    "                  samples_label_fontsize = 8,\n",
    "                  save_labels_rep = True)"
   ]
  },
  {
   "cell_type": "markdown",
   "id": "6b689ed2-2653-4207-a3a1-9cbc4e8ecaa6",
   "metadata": {
    "id": "6b689ed2-2653-4207-a3a1-9cbc4e8ecaa6"
   },
   "source": [
    "## Component Plots\n",
    "<p style=\"text-align: justify; text-indent: 1.5cm;\">\n",
    "The generation of component maps can be done using the methods <span style=\"font-style: italic;\">.component_plot()</span> for generating individual maps, <span style=\"font-style: italic;\">.all_component_plots()</span> for generating maps for all training variables, and <span style=\"font-style: italic;\">component_plot_collage()</span> for creating plot grids.\n",
    "</p>\n",
    "\n",
    "### Individual Plots\n",
    "<p style=\"text-align: justify; text-indent: 1.5cm;\">\n",
    "The optional arguments are the same as those for plotting the U-Matrix. The input argument for choosing the variable to plot is <span style=\"font-style: italic;\">component_name()</span> and can be an integer corresponding to the position index of the variable of interest in the list of input variables, or the actual name of the variable.\n",
    "</p>"
   ]
  },
  {
   "cell_type": "code",
   "execution_count": null,
   "id": "2ccf168e-7b71-4cf6-be68-c5ed7544a4b9",
   "metadata": {
    "id": "2ccf168e-7b71-4cf6-be68-c5ed7544a4b9"
   },
   "outputs": [],
   "source": [
    "plot.component_plot(figsize = (12,2.5),\n",
    "                    component_name = 2,\n",
    "                    title_size = 20,\n",
    "                    legend_title = \"Presence\",\n",
    "                    legend_pad = 5,\n",
    "                    legend_title_size = 12,\n",
    "                    legend_ticks_size = 10,\n",
    "                    label_title_xy = (0,0.7))"
   ]
  },
  {
   "cell_type": "markdown",
   "id": "a491339a-b9d8-4a31-bac2-eb92dcb7332b",
   "metadata": {
    "id": "a491339a-b9d8-4a31-bac2-eb92dcb7332b"
   },
   "source": [
    "### Individual Plot (Every Variable/Feature)\n",
    "<p style=\"text-align: justify; text-indent: 1.5cm;\">\n",
    "It is possible to directly generate individual plots for all variables or selected variables in the automatically generated \"Plots/Component_plots\" folder within the working directory. To select the variables for plotting, simply pass a list or array with the indices of the variables in the  <span style=\"font-style: italic;\">\"which\"</span> parameter of this function (the default value is 'all' for plotting all variables).\n",
    "</p>"
   ]
  },
  {
   "cell_type": "code",
   "execution_count": null,
   "id": "466dc735-ea83-4582-8bea-b0792e124636",
   "metadata": {
    "id": "466dc735-ea83-4582-8bea-b0792e124636"
   },
   "outputs": [],
   "source": [
    "plot.multiple_component_plots(figsize = (12,2.5),\n",
    "                              title_size = 20,\n",
    "                              legend_title = \"Presence\",\n",
    "                              legend_pad = 5,\n",
    "                              legend_title_size = 12,\n",
    "                              legend_ticks_size = 10,\n",
    "                              label_title_xy = (0,0.7),\n",
    "                              save=True)"
   ]
  },
  {
   "cell_type": "markdown",
   "id": "2eb0a59d-ce52-4eb1-a02e-81746ce7f5b7",
   "metadata": {
    "id": "2eb0a59d-ce52-4eb1-a02e-81746ce7f5b7"
   },
   "source": [
    "### Component Plot Collage\n",
    "<p style=\"text-align: justify; text-indent: 1.5cm;\">\n",
    "It is possible to generate collage plots of component maps directly within the automatically generated \"Plotagens/Component_plots\" folder in the working directory. To select the variables for plotting, simply pass a list or array with the indices of the variables in the <span style=\"font-style: italic;\">\"which\"</span> parameter of this function (the default value is 'all' for plotting all variables). To select the number of rows and columns per page, use the <span style=\"font-style: italic;\">\"grid\"</span> parameter, and to define the page size in pixels, use the <span style=\"font-style: italic;\">\"page_size\"</span> parameter (the default is A4 - 2480x3508 pixels).\n",
    "</p>"
   ]
  },
  {
   "cell_type": "code",
   "execution_count": null,
   "id": "07c1fb81-0c50-4228-84e3-194204270f53",
   "metadata": {
    "id": "07c1fb81-0c50-4228-84e3-194204270f53"
   },
   "outputs": [],
   "source": [
    "plot = PlotFactory(som_test)\n",
    "plot.component_plot_collage(figsize = (12,2.5),\n",
    "                            grid = (5,2),\n",
    "                            title_size = 20,\n",
    "                            legend_title = \"Presence\",\n",
    "                            legend_pad = 5,\n",
    "                            legend_title_size = 12,\n",
    "                            legend_ticks_size = 10,\n",
    "                            label_title_xy = (0,0.7))"
   ]
  },
  {
   "cell_type": "markdown",
   "id": "a09094b1-85e1-4fe5-80f6-30deef103872",
   "metadata": {
    "id": "a09094b1-85e1-4fe5-80f6-30deef103872"
   },
   "source": [
    "<div style=\"text-align: center; padding: 20px;\">\n",
    "  <img src=\"https://github.com/InTRA-USP/IntraSOM/blob/main/examples/Plotagens/Component_plots/Collage/pages/Component_plots_collage_page1.jpg?raw=1\" style=\"max-width: 900px;\">\n",
    "</div>"
   ]
  },
  {
   "cell_type": "markdown",
   "id": "425a4eaa-6167-47b9-a9c0-06e5dbae831d",
   "metadata": {
    "id": "425a4eaa-6167-47b9-a9c0-06e5dbae831d"
   },
   "source": [
    "# Clustering Module\n",
    "***"
   ]
  },
  {
   "cell_type": "markdown",
   "id": "499a588e-31b1-423d-bf72-895169120c68",
   "metadata": {
    "id": "499a588e-31b1-423d-bf72-895169120c68"
   },
   "source": [
    "<p style=\"text-align: justify; text-indent: 1.5cm;\">\n",
    "    The IntraSOM package features a module for clustering trained neurons, as used in various SOM applications. In this release version, the module utilizes the K-means algorithm for neuron clustering and offers various visualization and exploratory analysis functions for the results.\n",
    "</p>"
   ]
  },
  {
   "cell_type": "markdown",
   "id": "5e52d146-7d5e-43df-b832-09a7e895ce01",
   "metadata": {
    "id": "5e52d146-7d5e-43df-b832-09a7e895ce01"
   },
   "source": [
    "<p style=\"text-align: justify; text-indent: 1.5cm;\">\n",
    "    To cluster a trained map, simply instantiate a clustering object using the <strong>ClusterFactory</strong> class and use the SOM object as a parameter. This clustering object can then be used to call the <span style=\"font-style: italic;\">.kmeans()</span> function, where the parameter <span style=\"font-style: italic;\">k</span> indicates the number of clusters to group the trained neurons. The result of this process is a two-dimensional matrix with the cluster value for each neuron in the map.\n",
    "</p>"
   ]
  },
  {
   "cell_type": "code",
   "execution_count": null,
   "id": "6b0df9d4-6936-4823-add2-04431d6168ba",
   "metadata": {
    "id": "6b0df9d4-6936-4823-add2-04431d6168ba"
   },
   "outputs": [],
   "source": [
    "clustering = ClusterFactory(som_test)\n",
    "clusters = clustering.kmeans(k=10)\n",
    "clusters"
   ]
  },
  {
   "cell_type": "markdown",
   "id": "c6275b9f-e094-42e1-b4ee-6b5b8d5ed4ea",
   "metadata": {
    "id": "c6275b9f-e094-42e1-b4ee-6b5b8d5ed4ea"
   },
   "source": [
    "## Clustering Results\n",
    "<p style=\"text-align: justify; text-indent: 1.5cm;\">\n",
    "    The clustering results for the trained samples can be accessed using the class method <span style=\"font-style: italic;\">.results_cluster()</span> by passing the two-dimensional array created with the <span style=\"font-style: italic;\">.kmeans()</span> function as a parameter. The resulting dataframe is similar to the results dataframe but with an additional column containing the cluster numbers to which the samples were grouped.\n",
    "</p>"
   ]
  },
  {
   "cell_type": "code",
   "execution_count": null,
   "id": "6a716124-bcfe-4026-8b21-dea1ab4ea89a",
   "metadata": {
    "id": "6a716124-bcfe-4026-8b21-dea1ab4ea89a"
   },
   "outputs": [],
   "source": [
    "clustering.results_cluster(clusters)"
   ]
  },
  {
   "cell_type": "markdown",
   "id": "7b472e27-9aa7-4c77-9b03-2d97f9ebc481",
   "metadata": {
    "id": "7b472e27-9aa7-4c77-9b03-2d97f9ebc481"
   },
   "source": [
    "## Clustering Visualization"
   ]
  },
  {
   "cell_type": "markdown",
   "id": "44dca8f5-31e7-4619-a83c-7d22ec56a113",
   "metadata": {
    "id": "44dca8f5-31e7-4619-a83c-7d22ec56a113"
   },
   "source": [
    "### U-Matrix with Cluster Overlay\n",
    "\n",
    "<p style=\"text-align: justify; text-indent: 1.5cm;\">\n",
    "The clusters can be visualized with individualized cluster colors for each neuron on the map by using the <span style=\"font-style: italic;\">cluster_outline</span> parameter as False.\n",
    "</p>\n",
    "\n",
    "<p style=\"text-align: justify; text-indent: 1.5cm;\">\n",
    "    The color palette used to identify the clusters can be customized using the <span style=\"font-style: italic;\">colormap</span> parameter. By default, it uses \"gist_rainbow\". However, any other colormap available in the Matplotlib library can be used <a href=\"https://matplotlib.org/stable/tutorials/colors/colormaps.html\">[List of Colormaps]</a>.\n",
    "</p>\n",
    "\n",
    "<p style=\"text-align: justify; text-indent: 1.5cm;\">\n",
    "    The transparency of this cluster overlay can be controlled with the <span style=\"font-style: italic;\">alfa_clust</span> parameter. Other options such as the neuron template and the presence of BMUs (hits) can also be activated.\n",
    "</p>"
   ]
  },
  {
   "cell_type": "markdown",
   "id": "2aff83eb-3487-407c-b10c-def3196efa92",
   "metadata": {
    "id": "2aff83eb-3487-407c-b10c-def3196efa92"
   },
   "source": [
    "#### Plot with \"gist_rainbow\" colormap, 50% transparency and without neuron template"
   ]
  },
  {
   "cell_type": "code",
   "execution_count": null,
   "id": "8641f8a2-521c-4d80-b282-ae7a60ee5986",
   "metadata": {
    "id": "8641f8a2-521c-4d80-b282-ae7a60ee5986"
   },
   "outputs": [],
   "source": [
    "clustering.plot_kmeans(figsize = (12,5),\n",
    "                       clusters = clusters,\n",
    "                       title_size = 18,\n",
    "                       title_pad = 20,\n",
    "                       umatrix=True,\n",
    "                       colormap = \"gist_rainbow\",\n",
    "                       alfa_clust=0.5,\n",
    "                       hits=True,\n",
    "                       legend_text_size =7,\n",
    "                       cluster_outline=False,\n",
    "                       save=True,\n",
    "                       file_name=\"cluster_gist_50\")"
   ]
  },
  {
   "cell_type": "markdown",
   "id": "00ba0320-4eff-40a3-b59e-152eabb9acf2",
   "metadata": {
    "id": "00ba0320-4eff-40a3-b59e-152eabb9acf2"
   },
   "source": [
    "#### Plot with \"plasma\" colormap, 80% transparency, with neuron template and without U-Matrix"
   ]
  },
  {
   "cell_type": "code",
   "execution_count": null,
   "id": "4c931e96-d6c2-4e90-a820-60ebfaee7b5c",
   "metadata": {
    "id": "4c931e96-d6c2-4e90-a820-60ebfaee7b5c"
   },
   "outputs": [],
   "source": [
    "clustering.plot_kmeans(figsize = (12,5),\n",
    "                       clusters = clusters,\n",
    "                       title_size = 18,\n",
    "                       title_pad = 20,\n",
    "                       umatrix=False,\n",
    "                       colormap = \"plasma\",\n",
    "                       alfa_clust=0.9,\n",
    "                       watermark_neurons = True,\n",
    "                       neurons_fontsize = 6,\n",
    "                       hits=True,\n",
    "                       legend_text_size =7,\n",
    "                       cluster_outline=False,\n",
    "                       save=True,\n",
    "                       file_name=\"cluster_plasma_80_noumat\")"
   ]
  },
  {
   "cell_type": "markdown",
   "id": "aa91613e-0f5f-46ec-90fb-a87a78fd263d",
   "metadata": {
    "id": "aa91613e-0f5f-46ec-90fb-a87a78fd263d"
   },
   "source": [
    "### Neuron Cluster Merge\n",
    "<p style=\"text-align: justify; text-indent: 1.5cm;\">\n",
    "Neurons belonging to the same cluster can be merged by using the <span style=\"font-style: italic;\">cluster_outline</span> parameter set to True. To plot the labels of the neurons, the <span style=\"font-style: italic;\">plot_labels</span> parameter is set to True.\n",
    "</p>"
   ]
  },
  {
   "cell_type": "code",
   "execution_count": null,
   "id": "d480e160-4fd1-4f23-a831-c81af8ceb88b",
   "metadata": {
    "id": "d480e160-4fd1-4f23-a831-c81af8ceb88b"
   },
   "outputs": [],
   "source": [
    "clustering.plot_kmeans(figsize = (12,5),\n",
    "                       clusters = clusters,\n",
    "                       title_size = 18,\n",
    "                       title_pad = 20,\n",
    "                       umatrix=True,\n",
    "                       colormap = \"gist_rainbow\",\n",
    "                       alfa_clust=0.5,\n",
    "                       hits=True,\n",
    "                       legend_text_size =7,\n",
    "                       cluster_outline=True,\n",
    "                       plot_labels= True,\n",
    "                       clusterout_maxtext_size=12,\n",
    "                       save=True,\n",
    "                       file_name=\"cluster_merge\")"
   ]
  },
  {
   "cell_type": "markdown",
   "id": "c5b37831-477b-450d-944a-503aaeb5618c",
   "metadata": {
    "id": "c5b37831-477b-450d-944a-503aaeb5618c"
   },
   "source": [
    "### Selective Visualization\n",
    "<p style=\"text-align: justify; text-indent: 1.5cm;\">\n",
    "One or more clusters of interest can be visualized using the <span style=\"font-style: italic;\">clusters_highlight</span> parameter, which accepts a list or array with the index(es) of the respective cluster(s) of interest.\n",
    "</p>"
   ]
  },
  {
   "cell_type": "code",
   "execution_count": null,
   "id": "e0479ce0-ec29-4152-9429-015e84fa58b8",
   "metadata": {
    "id": "e0479ce0-ec29-4152-9429-015e84fa58b8"
   },
   "outputs": [],
   "source": [
    "clustering.plot_kmeans(figsize = (12,5),\n",
    "                       clusters = clusters,\n",
    "                       title_size = 18,\n",
    "                       title_pad = 20,\n",
    "                       umatrix=True,\n",
    "                       colormap = \"gist_rainbow\",\n",
    "                       alfa_clust=0.5,\n",
    "                       hits=True,\n",
    "                       legend_text_size =7,\n",
    "                       cluster_outline=True,\n",
    "                       plot_labels= True,\n",
    "                       clusterout_maxtext_size=12,\n",
    "                       clusters_highlight = [3,5,6],\n",
    "                       save=True,\n",
    "                       file_name=\"cluster_merge_selec\")"
   ]
  },
  {
   "cell_type": "markdown",
   "id": "c1a488c7-482f-4e9e-b431-948ecc8385bc",
   "metadata": {
    "id": "c1a488c7-482f-4e9e-b431-948ecc8385bc"
   },
   "source": [
    "### Customize Labels"
   ]
  },
  {
   "cell_type": "markdown",
   "id": "e86d3995-bb74-4800-86e6-a8528303c72e",
   "metadata": {
    "id": "e86d3995-bb74-4800-86e6-a8528303c72e"
   },
   "source": [
    "<p style=\"text-align: justify; text-indent: 1.5cm;\">\n",
    "The labels associated with the clusters can be customized using the <span style=\"font-style: italic;\">custom_labels</span> parameter, which accepts a list with the labels to be associated with each cluster.\n",
    "</p>"
   ]
  },
  {
   "cell_type": "code",
   "execution_count": null,
   "id": "cc0d80ae-31fb-4452-82ca-30db04eb6282",
   "metadata": {
    "id": "cc0d80ae-31fb-4452-82ca-30db04eb6282"
   },
   "outputs": [],
   "source": [
    "clustering.plot_kmeans(figsize = (12,5),\n",
    "                       clusters = clusters,\n",
    "                       title_size = 18,\n",
    "                       title_pad = 20,\n",
    "                       umatrix=True,\n",
    "                       colormap = \"gist_rainbow\",\n",
    "                       alfa_clust=0.5,\n",
    "                       hits=True,\n",
    "                       legend_text_size =7,\n",
    "                       cluster_outline=True,\n",
    "                       plot_labels= True,\n",
    "                       clusterout_maxtext_size=12,\n",
    "                       custom_labels = [f\"N {i}\" for i in range(10)],\n",
    "                       save=True,\n",
    "                       file_name=\"cluster_merge_custom\")"
   ]
  },
  {
   "cell_type": "markdown",
   "id": "5073f785-09bb-43f6-8bdf-b7c5c37e3a83",
   "metadata": {
    "id": "5073f785-09bb-43f6-8bdf-b7c5c37e3a83"
   },
   "source": [
    "<center><img src=\"https://github.com/InTRA-USP/IntraSOM/blob/main/examples/images/Foot_logo_fundo_branco.svg?raw=1\"/></center>"
   ]
  }
 ],
 "metadata": {
  "colab": {
   "provenance": [],
   "toc_visible": true
  },
  "kernelspec": {
   "display_name": "Python 3 (ipykernel)",
   "language": "python",
   "name": "python3"
  },
  "language_info": {
   "codemirror_mode": {
    "name": "ipython",
    "version": 3
   },
   "file_extension": ".py",
   "mimetype": "text/x-python",
   "name": "python",
   "nbconvert_exporter": "python",
   "pygments_lexer": "ipython3",
   "version": "3.10.11"
  }
 },
 "nbformat": 4,
 "nbformat_minor": 5
}
